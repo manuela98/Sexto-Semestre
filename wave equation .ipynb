{
 "cells": [
  {
   "cell_type": "code",
   "execution_count": 4,
   "metadata": {
    "collapsed": true
   },
   "outputs": [],
   "source": [
    "import numpy as np # NOtas pagina 410 \n",
    "from numpy import pi\n",
    "import matplotlib.pyplot as plt\n",
    "import matplotlib.animation as animation\n",
    "import matplotlib\n",
    "%matplotlib qt\n",
    "fig = plt.figure()\n",
    "fig.set_dpi(100)\n",
    "ax1 = fig.add_subplot(1,1,1)\n",
    "#velocidad\n",
    "c = 1\n",
    "#factor de escala para visualización\n",
    "scale = 5\n",
    "#longitud de cuerda en el eje x\n",
    "L = 1\n",
    "x0 = np.linspace(0,L+1,100)\n",
    "t0 = 0\n",
    "#Incremento\n",
    "dt = 0.01\n",
    "#wave equation\n",
    "def u(x,t):\n",
    "    return 6.0*np.sin(pi*x/L)*np.cos(pi*c*t/L)\n",
    "\n",
    "#Gradiente de u\n",
    "def grad_u(x,t):\n",
    "#du/dx\n",
    "#du/dt\n",
    "    return scale*np.array([6.0*(np.cos(pi*x/L))*np.cos(pi*c*t/L)*pi/L ,-6.0*np.sin(pi*x/L)*np.sin(np.pi*c*t/L)*pi*c/L])\n",
    "a = []                                 \n",
    "t = []\n",
    "for i in range(500):\n",
    "    value = u(x0,t0)  + grad_u(x0,t0)[1]*dt\n",
    "    t.append(t0)\n",
    "    t0 = t0 + dt\n",
    "    a.append(value)\n",
    "      \n",
    "def animate(i):\n",
    "    #oscilaciòn de onda\n",
    "    global k\n",
    "    #en cada punto de la cuerda\n",
    "    x = a[k]\n",
    "    k += 1\n",
    "    ax1.clear()\n",
    "    plt.plot(x0,x,color='red',label='wave diesplacement at each x')\n",
    "    plt.plot(0,0,color='red',label='Elapsed time '+str(round(t[k],2)))\n",
    "    plt.grid(True)\n",
    "    plt.ylim([ref0-12,2*scale])\n",
    "    plt.xlim([0,L])\n",
    "    plt.title('Wave equation')\n",
    "    plt.xlabel(r\"x\")\n",
    "    plt.ylabel(r'$displacement$')\n",
    "    plt.legend()\n",
    "anim = animation.FuncAnimation(fig,animate,frames=360,interval=20)\n",
    "plt.show()"
   ]
  },
  {
   "cell_type": "code",
   "execution_count": null,
   "metadata": {
    "collapsed": true
   },
   "outputs": [],
   "source": []
  }
 ],
 "metadata": {
  "kernelspec": {
   "display_name": "Python 2",
   "language": "python",
   "name": "python2"
  },
  "language_info": {
   "codemirror_mode": {
    "name": "ipython",
    "version": 2
   },
   "file_extension": ".py",
   "mimetype": "text/x-python",
   "name": "python",
   "nbconvert_exporter": "python",
   "pygments_lexer": "ipython2",
   "version": "2.7.12"
  }
 },
 "nbformat": 4,
 "nbformat_minor": 2
}
