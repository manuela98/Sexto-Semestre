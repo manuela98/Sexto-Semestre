{
 "cells": [
  {
   "cell_type": "markdown",
   "metadata": {},
   "source": [
    "# Algoritmo para resolver el sistema $Ax = b$ por el método de iteraciones de jacobi"
   ]
  },
  {
   "cell_type": "code",
   "execution_count": 1,
   "metadata": {},
   "outputs": [],
   "source": [
    "import numpy as np\n",
    "from numpy import linalg as LA"
   ]
  },
  {
   "cell_type": "code",
   "execution_count": 3,
   "metadata": {},
   "outputs": [],
   "source": [
    "def Jacobi(A,b,nmax,tol):\n",
    "    n = len(b)\n",
    "    D=np.diag(A)\n",
    "    LU = A-np.diag(D)\n",
    "    x = np.zeros(n)\n",
    "    k = 0\n",
    "    error = 10\n",
    "    while(k<nmax and tol < error):\n",
    "        \n",
    "        xnew = (b-np.dot(LU,x))/D\n",
    "        error = LA.norm(xnew-x)\n",
    "        print (\"---------\")\n",
    "        print(\"Solucion x para la iteracion k = %2d con error = %5.4f\"%(k,error))\n",
    "        print(xnew)\n",
    "        x = xnew\n",
    "        k+=1\n",
    "        \n",
    "    if k==nmax:\n",
    "        print(\"maximo numero de iteraciones fue alcanzado. \")\n",
    "        print(\"probablemente no hay convergencia\")"
   ]
  },
  {
   "cell_type": "code",
   "execution_count": 4,
   "metadata": {},
   "outputs": [],
   "source": [
    "A = np.array([[5.,-2.,3.],[-3.,8.,1.],[-3.,-1.,-6.]])\n",
    "b = np.array([-1.,4.,0.])"
   ]
  },
  {
   "cell_type": "code",
   "execution_count": 6,
   "metadata": {},
   "outputs": [
    {
     "name": "stdout",
     "output_type": "stream",
     "text": [
      "---------\n",
      "Solucion x para la iteracion k =  0 con error = 0.5385\n",
      "[-0.2  0.5 -0. ]\n",
      "---------\n",
      "Solucion x para la iteracion k =  1 con error = 0.2142\n",
      "[0.         0.425      0.01666667]\n",
      "---------\n",
      "Solucion x para la iteracion k =  2 con error = 0.1207\n",
      "[-0.04        0.49791667 -0.07083333]\n",
      "---------\n",
      "Solucion x para la iteracion k =  3 con error = 0.0821\n",
      "[ 0.04166667  0.49385417 -0.06298611]\n",
      "---------\n",
      "Solucion x para la iteracion k =  4 con error = 0.0503\n",
      "[ 0.03533333  0.52349826 -0.10314236]\n",
      "---------\n",
      "Solucion x para la iteracion k =  5 con error = 0.0361\n",
      "[ 0.07128472  0.5261428  -0.10491638]\n",
      "---------\n",
      "Solucion x para la iteracion k =  6 con error = 0.0231\n",
      "[ 0.07340694  0.53984632 -0.12333283]\n",
      "---------\n",
      "Solucion x para la iteracion k =  7 con error = 0.0171\n",
      "[ 0.08993822  0.54294421 -0.12667786]\n",
      "---------\n",
      "Solucion x para la iteracion k =  8 con error = 0.0115\n",
      "[ 0.0931844   0.54956157 -0.13545981]\n",
      "---------\n",
      "Solucion x para la iteracion k =  9 con error = 0.0087\n",
      "[ 0.10110051  0.55187663 -0.13818579]\n",
      "---------\n",
      "Solucion x para la iteracion k = 10 con error = 0.0060\n",
      "[ 0.10366213  0.55518592 -0.14252969]\n",
      "---------\n",
      "Solucion x para la iteracion k = 11 con error = 0.0046\n",
      "[ 0.10759218  0.55668951 -0.14436205]\n",
      "---------\n",
      "Solucion x para la iteracion k = 12 con error = 0.0033\n",
      "[ 0.10929303  0.55839233 -0.14657768]\n",
      "---------\n",
      "Solucion x para la iteracion k = 13 con error = 0.0025\n",
      "[ 0.11130354  0.5593071  -0.1477119 ]\n",
      "---------\n",
      "Solucion x para la iteracion k = 14 con error = 0.0018\n",
      "[ 0.11234998  0.56020281 -0.14886962]\n",
      "---------\n",
      "Solucion x para la iteracion k = 15 con error = 0.0014\n",
      "[ 0.1134029   0.56073995 -0.14954213]\n",
      "---------\n",
      "Solucion x para la iteracion k = 16 con error = 0.0010\n",
      "[ 0.11402125  0.56121885 -0.15015811]\n"
     ]
    }
   ],
   "source": [
    "nmax = 100\n",
    "tol = 0.001\n",
    "Jacobi(A,b,nmax,tol)"
   ]
  },
  {
   "cell_type": "markdown",
   "metadata": {},
   "source": [
    "## Verificacion"
   ]
  },
  {
   "cell_type": "code",
   "execution_count": null,
   "metadata": {},
   "outputs": [],
   "source": [
    "from scipy.linalg import solve\n",
    "print(solve(A,b))"
   ]
  },
  {
   "cell_type": "markdown",
   "metadata": {},
   "source": [
    "## implementacion escalar"
   ]
  },
  {
   "cell_type": "code",
   "execution_count": 8,
   "metadata": {},
   "outputs": [],
   "source": [
    "\n",
    "import numpy as np\n",
    "def Jacobi2(A,b,nmax,tol):\n",
    "    n = len(b)\n",
    "    x=np.zeros(n)\n",
    "    xnew=np.zeros(n)\n",
    "    error = 10\n",
    "    \n",
    "    for k in range(nmax):\n",
    "        for i in range(n):\n",
    "            xnew[i]=0\n",
    "            for j in range(n):\n",
    "                if i != j:\n",
    "                    xnew[i] += A[i][j]*x[j]\n",
    "            xnew[i]=(b[i]-xnew[i])/A[i][i]\n",
    "        S = 0\n",
    "        for j in range(n):\n",
    "            S+=(xnew[j]-x[j])**2\n",
    "        error=S**(0.5)\n",
    "        print (\"---------\")\n",
    "        print(\"Solucion x para la iteracion k = %2d con error = %5.4f\"%(k,error))\n",
    "        print(xnew)\n",
    "        \n",
    "        if error<tol:\n",
    "            break\n",
    "        for i in range(n):\n",
    "            x[i]=xnew[i]"
   ]
  },
  {
   "cell_type": "code",
   "execution_count": 9,
   "metadata": {},
   "outputs": [
    {
     "name": "stdout",
     "output_type": "stream",
     "text": [
      "---------\n",
      "Solucion x para la iteracion k =  0 con error = 0.5385\n",
      "[-0.2  0.5 -0. ]\n",
      "---------\n",
      "Solucion x para la iteracion k =  1 con error = 0.2142\n",
      "[0.         0.425      0.01666667]\n",
      "---------\n",
      "Solucion x para la iteracion k =  2 con error = 0.1207\n",
      "[-0.04        0.49791667 -0.07083333]\n",
      "---------\n",
      "Solucion x para la iteracion k =  3 con error = 0.0821\n",
      "[ 0.04166667  0.49385417 -0.06298611]\n",
      "---------\n",
      "Solucion x para la iteracion k =  4 con error = 0.0503\n",
      "[ 0.03533333  0.52349826 -0.10314236]\n",
      "---------\n",
      "Solucion x para la iteracion k =  5 con error = 0.0361\n",
      "[ 0.07128472  0.5261428  -0.10491638]\n",
      "---------\n",
      "Solucion x para la iteracion k =  6 con error = 0.0231\n",
      "[ 0.07340694  0.53984632 -0.12333283]\n",
      "---------\n",
      "Solucion x para la iteracion k =  7 con error = 0.0171\n",
      "[ 0.08993822  0.54294421 -0.12667786]\n",
      "---------\n",
      "Solucion x para la iteracion k =  8 con error = 0.0115\n",
      "[ 0.0931844   0.54956157 -0.13545981]\n",
      "---------\n",
      "Solucion x para la iteracion k =  9 con error = 0.0087\n",
      "[ 0.10110051  0.55187663 -0.13818579]\n",
      "---------\n",
      "Solucion x para la iteracion k = 10 con error = 0.0060\n",
      "[ 0.10366213  0.55518592 -0.14252969]\n",
      "---------\n",
      "Solucion x para la iteracion k = 11 con error = 0.0046\n",
      "[ 0.10759218  0.55668951 -0.14436205]\n",
      "---------\n",
      "Solucion x para la iteracion k = 12 con error = 0.0033\n",
      "[ 0.10929303  0.55839233 -0.14657768]\n",
      "---------\n",
      "Solucion x para la iteracion k = 13 con error = 0.0025\n",
      "[ 0.11130354  0.5593071  -0.1477119 ]\n",
      "---------\n",
      "Solucion x para la iteracion k = 14 con error = 0.0018\n",
      "[ 0.11234998  0.56020281 -0.14886962]\n",
      "---------\n",
      "Solucion x para la iteracion k = 15 con error = 0.0014\n",
      "[ 0.1134029   0.56073995 -0.14954213]\n",
      "---------\n",
      "Solucion x para la iteracion k = 16 con error = 0.0010\n",
      "[ 0.11402125  0.56121885 -0.15015811]\n"
     ]
    }
   ],
   "source": [
    "nmax = 100\n",
    "tol = 0.001\n",
    "Jacobi(A,b,nmax,tol)"
   ]
  },
  {
   "cell_type": "markdown",
   "metadata": {},
   "source": [
    "## Radio espectral"
   ]
  },
  {
   "cell_type": "code",
   "execution_count": 16,
   "metadata": {},
   "outputs": [],
   "source": [
    "from numpy.linalg import inv\n",
    "\n",
    "def radio_espectral(A):\n",
    "    n = np.size(A,1)\n",
    "    D= np.diag(A)\n",
    "    LU = A-np.diag(D)\n",
    "    T = -np.matmul(inv(np.diag(D)),LU)\n",
    "    autovalores=LA.eigvals(T)\n",
    "    print(\"T=\")\n",
    "    print(T)\n",
    "    print (\"Autovalores = \",autovalores)\n",
    "    radio_espectral=max(np.absolute(autovalores))\n",
    "    print (\"radio espectral =\", radio_espectral)"
   ]
  },
  {
   "cell_type": "code",
   "execution_count": 17,
   "metadata": {},
   "outputs": [
    {
     "name": "stdout",
     "output_type": "stream",
     "text": [
      "T=\n",
      "[[-0.          0.4        -0.6       ]\n",
      " [ 0.375      -0.         -0.125     ]\n",
      " [-0.5        -0.16666667 -0.        ]]\n",
      "Autovalores =  [ 0.74481338 -0.60644324 -0.13837014]\n",
      "radio espectral = 0.7448133799005094\n"
     ]
    }
   ],
   "source": [
    "radio_espectral(A)"
   ]
  },
  {
   "cell_type": "code",
   "execution_count": null,
   "metadata": {},
   "outputs": [],
   "source": []
  }
 ],
 "metadata": {
  "kernelspec": {
   "display_name": "Python 3",
   "language": "python",
   "name": "python3"
  },
  "language_info": {
   "codemirror_mode": {
    "name": "ipython",
    "version": 3
   },
   "file_extension": ".py",
   "mimetype": "text/x-python",
   "name": "python",
   "nbconvert_exporter": "python",
   "pygments_lexer": "ipython3",
   "version": "3.6.5"
  }
 },
 "nbformat": 4,
 "nbformat_minor": 2
}
