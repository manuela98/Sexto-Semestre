{
 "cells": [
  {
   "cell_type": "markdown",
   "metadata": {},
   "source": [
    "# Solución de la ecuación de calor"
   ]
  },
  {
   "cell_type": "markdown",
   "metadata": {},
   "source": [
    "## solución análitica y numérica del problema"
   ]
  },
  {
   "cell_type": "code",
   "execution_count": 6,
   "metadata": {},
   "outputs": [],
   "source": [
    "import numpy as np\n",
    "from numpy import pi\n",
    "import matplotlib.pyplot as plt\n",
    "import matplotlib.animation as animation\n",
    "\n",
    "%matplotlib qt #plot outside jupyter notebook\n",
    "\n",
    "fig = plt.figure()\n",
    "fig.set_dpi(100)\n",
    "ax1 = fig.add_subplot(1,1,1)\n",
    "\n",
    "#Difussion constant\n",
    "k = 1\n",
    "#Scaling factor (for visualisation purposes)\n",
    "scale = 5\n",
    "\n",
    "#lenght of the rod (0,L) on the x axis\n",
    "L = pi\n",
    "\n",
    "#initial conditions u(0,t) = u(L,t), temperature at x=0 and x=L\n",
    "x0 = np.linspace(0,L+1,10000)\n",
    "t0 = 0\n",
    "temp0 = 5 #temperature\n",
    "\n",
    "#increment\n",
    "dt = 0.01\n",
    "\n",
    "#Heat function\n",
    "def u(x,t):\n",
    "    return temp0 + scale*np.exp(-k*t)*np.sin(x)\n",
    "\n",
    "#Gradient of u\n",
    "def grad_u(x,t):\n",
    "    return scale*np.array([np.exp(-k*t)*np.cos(x),-k*np.exp(-k*t)*np.sin(x)])\n",
    "a = []\n",
    "t = []\n",
    "\n",
    "for i in range(500):\n",
    "    value = u(x0,t0)+grad_u(x0,t0)[1]*dt\n",
    "    t.append(t0)\n",
    "    t0 = t0+dt\n",
    "    a.append(value)\n",
    "    \n",
    "    \n",
    "def animate(i):\n",
    "    global k\n",
    "    x = a[k]\n",
    "    k += 1\n",
    "    ax1.clear()\n",
    "    plt.plot(x0,x,color='red',label='Temperature at each x')\n",
    "    plt.plot(0,0,color='red',label='Elapsed time '+str(round(t[k],2)))\n",
    "    plt.grid(True)\n",
    "    plt.xlim(0,L)\n",
    "    plt.ylim([temp0-2,2.5*scale])\n",
    "    plt.title('Heat equation')\n",
    "    plt.xlabel(r\"x\")\n",
    "    plt.ylabel(r'$heat$')\n",
    "    plt.legend()\n",
    "    \n",
    "anim = animation.FuncAnimation(fig,animate,frames=360,interval=20)\n",
    "plt.show()\n",
    "    "
   ]
  },
  {
   "cell_type": "code",
   "execution_count": null,
   "metadata": {
    "collapsed": true
   },
   "outputs": [],
   "source": []
  }
 ],
 "metadata": {
  "kernelspec": {
   "display_name": "Python 2",
   "language": "python",
   "name": "python2"
  },
  "language_info": {
   "codemirror_mode": {
    "name": "ipython",
    "version": 2
   },
   "file_extension": ".py",
   "mimetype": "text/x-python",
   "name": "python",
   "nbconvert_exporter": "python",
   "pygments_lexer": "ipython2",
   "version": "2.7.12"
  }
 },
 "nbformat": 4,
 "nbformat_minor": 2
}
